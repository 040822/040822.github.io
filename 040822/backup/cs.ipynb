{
 "cells": [
  {
   "cell_type": "code",
   "execution_count": 1,
   "metadata": {},
   "outputs": [
    {
     "name": "stdout",
     "output_type": "stream",
     "text": [
      "0.18530201888518416\n"
     ]
    }
   ],
   "source": [
    "print(0.9**16)\n",
    "r=0.9\n"
   ]
  },
  {
   "cell_type": "code",
   "execution_count": 6,
   "metadata": {},
   "outputs": [
    {
     "name": "stdout",
     "output_type": "stream",
     "text": [
      "-6.182038342089078\n",
      "1.2727922061357857\n",
      "2.5455844122715714\n"
     ]
    }
   ],
   "source": [
    "#2*0.9*cos(pi/8)=?\n",
    "import math\n",
    "r=0.9\n",
    "x = 2*r*math.sqrt(3)*math.cos(math.pi*25/24)\n",
    "print(2*x)\n",
    "# 2*0.9*cos(pi/4)=?\n",
    "x = 2*r*math.cos(math.pi/4)\n",
    "print(x)\n",
    "x = 2*0.9*math.sqrt(2)\n",
    "print(x)\n"
   ]
  }
 ],
 "metadata": {
  "kernelspec": {
   "display_name": "base",
   "language": "python",
   "name": "python3"
  },
  "language_info": {
   "codemirror_mode": {
    "name": "ipython",
    "version": 3
   },
   "file_extension": ".py",
   "mimetype": "text/x-python",
   "name": "python",
   "nbconvert_exporter": "python",
   "pygments_lexer": "ipython3",
   "version": "3.11.4"
  }
 },
 "nbformat": 4,
 "nbformat_minor": 2
}
